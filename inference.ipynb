{
  "nbformat": 4,
  "nbformat_minor": 0,
  "metadata": {
    "accelerator": "GPU",
    "colab": {
      "name": "inference.ipynb",
      "provenance": [],
      "collapsed_sections": [],
      "machine_shape": "hm"
    },
    "kernelspec": {
      "display_name": "Python 3",
      "name": "python3"
    },
    "language_info": {
      "name": "python"
    }
  },
  "cells": [
    {
      "cell_type": "code",
      "metadata": {
        "colab": {
          "base_uri": "https://localhost:8080/"
        },
        "id": "ftIyNPkHYLK5",
        "outputId": "166c7516-8ce2-467d-b416-5f7684087b42"
      },
      "source": [
        "%cd /content/drive/MyDrive/Vista/Pose/simple-HigherHRNet"
      ],
      "execution_count": 1,
      "outputs": [
        {
          "output_type": "stream",
          "name": "stdout",
          "text": [
            "/content/drive/MyDrive/Vista/Pose/simple-HigherHRNet\n"
          ]
        }
      ]
    },
    {
      "cell_type": "code",
      "metadata": {
        "colab": {
          "base_uri": "https://localhost:8080/"
        },
        "id": "s9aVTh0ZY9WX",
        "outputId": "3c0413b0-bd8b-4614-92f5-4e75600bb594"
      },
      "source": [
        "!pip install -r requirements.txt"
      ],
      "execution_count": 2,
      "outputs": [
        {
          "output_type": "stream",
          "name": "stdout",
          "text": [
            "Collecting ffmpeg-python>=0.2.0\n",
            "  Downloading ffmpeg_python-0.2.0-py3-none-any.whl (25 kB)\n",
            "Requirement already satisfied: matplotlib>=3.0.2 in /usr/local/lib/python3.7/dist-packages (from -r requirements.txt (line 2)) (3.2.2)\n",
            "Collecting munkres>=1.1.2\n",
            "  Downloading munkres-1.1.4-py2.py3-none-any.whl (7.0 kB)\n",
            "Requirement already satisfied: numpy>=1.16 in /usr/local/lib/python3.7/dist-packages (from -r requirements.txt (line 4)) (1.19.5)\n",
            "Requirement already satisfied: opencv-python>=3.4 in /usr/local/lib/python3.7/dist-packages (from -r requirements.txt (line 5)) (4.1.2.30)\n",
            "Requirement already satisfied: Pillow>=5.4 in /usr/local/lib/python3.7/dist-packages (from -r requirements.txt (line 6)) (7.1.2)\n",
            "Collecting vidgear>=0.1.4\n",
            "  Downloading vidgear-0.2.3-py3-none-any.whl (111 kB)\n",
            "\u001b[?25l\r\u001b[K     |███                             | 10 kB 41.4 MB/s eta 0:00:01\r\u001b[K     |█████▉                          | 20 kB 48.9 MB/s eta 0:00:01\r\u001b[K     |████████▉                       | 30 kB 38.6 MB/s eta 0:00:01\r\u001b[K     |███████████▊                    | 40 kB 22.9 MB/s eta 0:00:01\r\u001b[K     |██████████████▊                 | 51 kB 6.2 MB/s eta 0:00:01\r\u001b[K     |█████████████████▋              | 61 kB 7.3 MB/s eta 0:00:01\r\u001b[K     |████████████████████▋           | 71 kB 8.3 MB/s eta 0:00:01\r\u001b[K     |███████████████████████▌        | 81 kB 8.9 MB/s eta 0:00:01\r\u001b[K     |██████████████████████████▌     | 92 kB 9.8 MB/s eta 0:00:01\r\u001b[K     |█████████████████████████████▍  | 102 kB 10.4 MB/s eta 0:00:01\r\u001b[K     |████████████████████████████████| 111 kB 10.4 MB/s \n",
            "\u001b[?25hRequirement already satisfied: torch>=1.4.0 in /usr/local/lib/python3.7/dist-packages (from -r requirements.txt (line 8)) (1.9.0+cu111)\n",
            "Requirement already satisfied: torchvision>=0.5.0 in /usr/local/lib/python3.7/dist-packages (from -r requirements.txt (line 9)) (0.10.0+cu111)\n",
            "Requirement already satisfied: tqdm>=4.26 in /usr/local/lib/python3.7/dist-packages (from -r requirements.txt (line 10)) (4.62.3)\n",
            "Requirement already satisfied: future in /usr/local/lib/python3.7/dist-packages (from ffmpeg-python>=0.2.0->-r requirements.txt (line 1)) (0.16.0)\n",
            "Requirement already satisfied: pyparsing!=2.0.4,!=2.1.2,!=2.1.6,>=2.0.1 in /usr/local/lib/python3.7/dist-packages (from matplotlib>=3.0.2->-r requirements.txt (line 2)) (2.4.7)\n",
            "Requirement already satisfied: cycler>=0.10 in /usr/local/lib/python3.7/dist-packages (from matplotlib>=3.0.2->-r requirements.txt (line 2)) (0.10.0)\n",
            "Requirement already satisfied: python-dateutil>=2.1 in /usr/local/lib/python3.7/dist-packages (from matplotlib>=3.0.2->-r requirements.txt (line 2)) (2.8.2)\n",
            "Requirement already satisfied: kiwisolver>=1.0.1 in /usr/local/lib/python3.7/dist-packages (from matplotlib>=3.0.2->-r requirements.txt (line 2)) (1.3.2)\n",
            "Collecting pafy>=0.5.5\n",
            "  Downloading pafy-0.5.5-py2.py3-none-any.whl (35 kB)\n",
            "Collecting colorlog\n",
            "  Downloading colorlog-6.5.0-py2.py3-none-any.whl (11 kB)\n",
            "Requirement already satisfied: requests in /usr/local/lib/python3.7/dist-packages (from vidgear>=0.1.4->-r requirements.txt (line 7)) (2.23.0)\n",
            "Collecting yt-dlp>=2021.10.22\n",
            "  Downloading yt_dlp-2021.10.22-py2.py3-none-any.whl (2.3 MB)\n",
            "\u001b[K     |████████████████████████████████| 2.3 MB 66.1 MB/s \n",
            "\u001b[?25hRequirement already satisfied: cython in /usr/local/lib/python3.7/dist-packages (from vidgear>=0.1.4->-r requirements.txt (line 7)) (0.29.24)\n",
            "Collecting simplejpeg>=1.6.2\n",
            "  Downloading simplejpeg-1.6.2-cp37-cp37m-manylinux_2_17_x86_64.manylinux2014_x86_64.manylinux_2_24_x86_64.whl (270 kB)\n",
            "\u001b[K     |████████████████████████████████| 270 kB 84.5 MB/s \n",
            "\u001b[?25hCollecting mss>=6.1.0\n",
            "  Downloading mss-6.1.0-py3-none-any.whl (76 kB)\n",
            "\u001b[K     |████████████████████████████████| 76 kB 6.8 MB/s \n",
            "\u001b[?25hCollecting streamlink\n",
            "  Downloading streamlink-2.4.0-py3-none-any.whl (360 kB)\n",
            "\u001b[K     |████████████████████████████████| 360 kB 106.8 MB/s \n",
            "\u001b[?25hRequirement already satisfied: pyzmq>=22.3.0 in /usr/local/lib/python3.7/dist-packages (from vidgear>=0.1.4->-r requirements.txt (line 7)) (22.3.0)\n",
            "Collecting pyscreenshot>=3.0\n",
            "  Downloading pyscreenshot-3.0-py3-none-any.whl (27 kB)\n",
            "Requirement already satisfied: typing-extensions in /usr/local/lib/python3.7/dist-packages (from torch>=1.4.0->-r requirements.txt (line 8)) (3.7.4.3)\n",
            "Requirement already satisfied: six in /usr/local/lib/python3.7/dist-packages (from cycler>=0.10->matplotlib>=3.0.2->-r requirements.txt (line 2)) (1.15.0)\n",
            "Collecting entrypoint2\n",
            "  Downloading entrypoint2-0.2.4-py3-none-any.whl (6.2 kB)\n",
            "Collecting EasyProcess\n",
            "  Downloading EasyProcess-0.3-py2.py3-none-any.whl (7.9 kB)\n",
            "Collecting jeepney\n",
            "  Downloading jeepney-0.7.1-py3-none-any.whl (54 kB)\n",
            "\u001b[K     |████████████████████████████████| 54 kB 3.3 MB/s \n",
            "\u001b[?25hCollecting websockets\n",
            "  Downloading websockets-10.0-cp37-cp37m-manylinux2010_x86_64.whl (108 kB)\n",
            "\u001b[K     |████████████████████████████████| 108 kB 74.6 MB/s \n",
            "\u001b[?25hCollecting mutagen\n",
            "  Downloading mutagen-1.45.1-py3-none-any.whl (218 kB)\n",
            "\u001b[K     |████████████████████████████████| 218 kB 103.7 MB/s \n",
            "\u001b[?25hCollecting pycryptodomex\n",
            "  Downloading pycryptodomex-3.11.0-cp35-abi3-manylinux2010_x86_64.whl (1.9 MB)\n",
            "\u001b[K     |████████████████████████████████| 1.9 MB 34.4 MB/s \n",
            "\u001b[?25hRequirement already satisfied: chardet<4,>=3.0.2 in /usr/local/lib/python3.7/dist-packages (from requests->vidgear>=0.1.4->-r requirements.txt (line 7)) (3.0.4)\n",
            "Requirement already satisfied: idna<3,>=2.5 in /usr/local/lib/python3.7/dist-packages (from requests->vidgear>=0.1.4->-r requirements.txt (line 7)) (2.10)\n",
            "Requirement already satisfied: certifi>=2017.4.17 in /usr/local/lib/python3.7/dist-packages (from requests->vidgear>=0.1.4->-r requirements.txt (line 7)) (2021.5.30)\n",
            "Requirement already satisfied: urllib3!=1.25.0,!=1.25.1,<1.26,>=1.21.1 in /usr/local/lib/python3.7/dist-packages (from requests->vidgear>=0.1.4->-r requirements.txt (line 7)) (1.24.3)\n",
            "Collecting lxml>=4.6.3\n",
            "  Downloading lxml-4.6.3-cp37-cp37m-manylinux2014_x86_64.whl (6.3 MB)\n",
            "\u001b[K     |████████████████████████████████| 6.3 MB 47.3 MB/s \n",
            "\u001b[?25hCollecting requests\n",
            "  Downloading requests-2.26.0-py2.py3-none-any.whl (62 kB)\n",
            "\u001b[K     |████████████████████████████████| 62 kB 1.0 MB/s \n",
            "\u001b[?25hCollecting iso-639\n",
            "  Downloading iso-639-0.4.5.tar.gz (167 kB)\n",
            "\u001b[K     |████████████████████████████████| 167 kB 76.2 MB/s \n",
            "\u001b[?25hCollecting pycryptodome<4,>=3.4.3\n",
            "  Downloading pycryptodome-3.11.0-cp35-abi3-manylinux2010_x86_64.whl (1.9 MB)\n",
            "\u001b[K     |████████████████████████████████| 1.9 MB 62.4 MB/s \n",
            "\u001b[?25hCollecting websocket-client>=0.58.0\n",
            "  Downloading websocket_client-1.2.1-py2.py3-none-any.whl (52 kB)\n",
            "\u001b[K     |████████████████████████████████| 52 kB 1.8 MB/s \n",
            "\u001b[?25hRequirement already satisfied: PySocks!=1.5.7,>=1.5.6 in /usr/local/lib/python3.7/dist-packages (from streamlink->vidgear>=0.1.4->-r requirements.txt (line 7)) (1.7.1)\n",
            "Collecting iso3166\n",
            "  Downloading iso3166-2.0.2-py3-none-any.whl (8.5 kB)\n",
            "Collecting isodate\n",
            "  Downloading isodate-0.6.0-py2.py3-none-any.whl (45 kB)\n",
            "\u001b[K     |████████████████████████████████| 45 kB 4.5 MB/s \n",
            "\u001b[?25hRequirement already satisfied: charset-normalizer~=2.0.0 in /usr/local/lib/python3.7/dist-packages (from requests->vidgear>=0.1.4->-r requirements.txt (line 7)) (2.0.7)\n",
            "Building wheels for collected packages: iso-639\n",
            "  Building wheel for iso-639 (setup.py) ... \u001b[?25l\u001b[?25hdone\n",
            "  Created wheel for iso-639: filename=iso_639-0.4.5-py3-none-any.whl size=169061 sha256=28589859addd9dd40ed6afa45f6332ab540ce70291fa33fe45af569304579ebe\n",
            "  Stored in directory: /root/.cache/pip/wheels/47/60/19/6d020fc92138ed1b113a18271e83ea4b5525fe770cb45b9a2e\n",
            "Successfully built iso-639\n",
            "Installing collected packages: websockets, websocket-client, requests, pycryptodomex, pycryptodome, mutagen, mss, lxml, jeepney, isodate, iso3166, iso-639, entrypoint2, EasyProcess, yt-dlp, streamlink, simplejpeg, pyscreenshot, pafy, colorlog, vidgear, munkres, ffmpeg-python\n",
            "  Attempting uninstall: requests\n",
            "    Found existing installation: requests 2.23.0\n",
            "    Uninstalling requests-2.23.0:\n",
            "      Successfully uninstalled requests-2.23.0\n",
            "  Attempting uninstall: lxml\n",
            "    Found existing installation: lxml 4.2.6\n",
            "    Uninstalling lxml-4.2.6:\n",
            "      Successfully uninstalled lxml-4.2.6\n",
            "\u001b[31mERROR: pip's dependency resolver does not currently take into account all the packages that are installed. This behaviour is the source of the following dependency conflicts.\n",
            "google-colab 1.0.0 requires requests~=2.23.0, but you have requests 2.26.0 which is incompatible.\n",
            "datascience 0.10.6 requires folium==0.2.1, but you have folium 0.8.3 which is incompatible.\u001b[0m\n",
            "Successfully installed EasyProcess-0.3 colorlog-6.5.0 entrypoint2-0.2.4 ffmpeg-python-0.2.0 iso-639-0.4.5 iso3166-2.0.2 isodate-0.6.0 jeepney-0.7.1 lxml-4.6.3 mss-6.1.0 munkres-1.1.4 mutagen-1.45.1 pafy-0.5.5 pycryptodome-3.11.0 pycryptodomex-3.11.0 pyscreenshot-3.0 requests-2.26.0 simplejpeg-1.6.2 streamlink-2.4.0 vidgear-0.2.3 websocket-client-1.2.1 websockets-10.0 yt-dlp-2021.10.22\n"
          ]
        }
      ]
    },
    {
      "cell_type": "code",
      "metadata": {
        "colab": {
          "base_uri": "https://localhost:8080/"
        },
        "id": "9t32UthlZJvV",
        "outputId": "da290747-4a1d-4fa9-f78f-50744c15eeac"
      },
      "source": [
        "!python scripts/live-demo.py --filename data/demo.mp4 --save_video"
      ],
      "execution_count": null,
      "outputs": [
        {
          "name": "stdout",
          "output_type": "stream",
          "text": [
            "device: 'cuda' - 1 GPU(s) will be used\n",
            "/usr/local/lib/python3.7/dist-packages/torch/nn/functional.py:718: UserWarning: Named tensors and all their associated APIs are an experimental feature and subject to change. Please do not use them for anything important until they are released as stable. (Triggered internally at  /pytorch/c10/core/TensorImpl.h:1156.)\n",
            "  return torch.max_pool2d(input, kernel_size, stride, padding, dilation, ceil_mode)\n",
            "/usr/local/lib/python3.7/dist-packages/torch/_tensor.py:575: UserWarning: floor_divide is deprecated, and will be removed in a future version of pytorch. It currently rounds toward 0 (like the 'trunc' function NOT 'floor'). This results in incorrect rounding for negative values.\n",
            "To keep the current behavior, use torch.div(a, b, rounding_mode='trunc'), or for actual floor division, use torch.div(a, b, rounding_mode='floor'). (Triggered internally at  /pytorch/aten/src/ATen/native/BinaryOps.cpp:467.)\n",
            "  return torch.floor_divide(self, other)\n",
            "framerate: 9.510074 fps / detected people: 0"
          ]
        }
      ]
    },
    {
      "cell_type": "code",
      "metadata": {
        "colab": {
          "base_uri": "https://localhost:8080/"
        },
        "id": "vd39DdYxZRP0",
        "outputId": "4b8cf899-9f0a-432d-e870-8acf1b92eefd"
      },
      "source": [
        "!python scripts/live-demo.py --image_resolution 640 --hrnet_c 48 --filename data/demo.mp4 --save_video \\\n",
        "--hrnet_weights weights/pose_higher_hrnet_w48_640.pth.tar \\\n",
        "--output_vid old_sample.avi"
      ],
      "execution_count": null,
      "outputs": [
        {
          "name": "stdout",
          "output_type": "stream",
          "text": [
            "device: 'cuda' - 1 GPU(s) will be used\n",
            "/usr/local/lib/python3.7/dist-packages/torch/nn/functional.py:718: UserWarning: Named tensors and all their associated APIs are an experimental feature and subject to change. Please do not use them for anything important until they are released as stable. (Triggered internally at  /pytorch/c10/core/TensorImpl.h:1156.)\n",
            "  return torch.max_pool2d(input, kernel_size, stride, padding, dilation, ceil_mode)\n",
            "/usr/local/lib/python3.7/dist-packages/torch/_tensor.py:575: UserWarning: floor_divide is deprecated, and will be removed in a future version of pytorch. It currently rounds toward 0 (like the 'trunc' function NOT 'floor'). This results in incorrect rounding for negative values.\n",
            "To keep the current behavior, use torch.div(a, b, rounding_mode='trunc'), or for actual floor division, use torch.div(a, b, rounding_mode='floor'). (Triggered internally at  /pytorch/aten/src/ATen/native/BinaryOps.cpp:467.)\n",
            "  return torch.floor_divide(self, other)\n",
            "framerate: 4.823850 fps / detected people: 0"
          ]
        }
      ]
    },
    {
      "cell_type": "code",
      "metadata": {
        "colab": {
          "background_save": true,
          "base_uri": "https://localhost:8080/"
        },
        "id": "dl-v-t2ldPnZ",
        "outputId": "85449203-7b56-41b3-e0ae-987ed36bd386"
      },
      "source": [
        "!python scripts/live-demo.py --image_resolution 640 --hrnet_c 48 \\\n",
        "--filename /content/drive/MyDrive/Vista/Parkinson_Vids/Patient_2/IMG_5488.MOV \\\n",
        "--save_video \\\n",
        "--hrnet_weights weights/pose_higher_hrnet_w48_640.pth.tar \\\n",
        "--output_vid output/IMG_5488.avi"
      ],
      "execution_count": null,
      "outputs": [
        {
          "name": "stdout",
          "output_type": "stream",
          "text": [
            "device: 'cuda' - 1 GPU(s) will be used\n",
            "/usr/local/lib/python3.7/dist-packages/torch/nn/functional.py:718: UserWarning: Named tensors and all their associated APIs are an experimental feature and subject to change. Please do not use them for anything important until they are released as stable. (Triggered internally at  /pytorch/c10/core/TensorImpl.h:1156.)\n",
            "  return torch.max_pool2d(input, kernel_size, stride, padding, dilation, ceil_mode)\n",
            "/usr/local/lib/python3.7/dist-packages/torch/_tensor.py:575: UserWarning: floor_divide is deprecated, and will be removed in a future version of pytorch. It currently rounds toward 0 (like the 'trunc' function NOT 'floor'). This results in incorrect rounding for negative values.\n",
            "To keep the current behavior, use torch.div(a, b, rounding_mode='trunc'), or for actual floor division, use torch.div(a, b, rounding_mode='floor'). (Triggered internally at  /pytorch/aten/src/ATen/native/BinaryOps.cpp:467.)\n",
            "  return torch.floor_divide(self, other)\n",
            "framerate: 3.983728 fps / detected people: 1"
          ]
        }
      ]
    },
    {
      "cell_type": "code",
      "metadata": {
        "id": "KckVAgsl4e91"
      },
      "source": [
        "!python scripts/live-demo.py --image_resolution 640 --hrnet_c 48 \\\n",
        "--filename /content/drive/MyDrive/Vista/Parkinson_Vids/Patient_2/IMG_5489.MOV \\\n",
        "--save_video \\\n",
        "--hrnet_weights weights/pose_higher_hrnet_w48_640.pth.tar \\\n",
        "--output_vid output/IMG_5489.avi"
      ],
      "execution_count": null,
      "outputs": []
    },
    {
      "cell_type": "code",
      "metadata": {
        "id": "6tRQgFNCVdPB"
      },
      "source": [
        ""
      ],
      "execution_count": null,
      "outputs": []
    }
  ]
}